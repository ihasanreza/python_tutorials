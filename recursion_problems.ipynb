{
  "nbformat": 4,
  "nbformat_minor": 0,
  "metadata": {
    "colab": {
      "name": "recursion_problems.ipynb",
      "provenance": [],
      "collapsed_sections": []
    },
    "kernelspec": {
      "name": "python3",
      "display_name": "Python 3"
    }
  },
  "cells": [
    {
      "cell_type": "markdown",
      "metadata": {
        "id": "_nC2GuBj-WRu",
        "colab_type": "text"
      },
      "source": [
        "**1. Factorial Computation**"
      ]
    },
    {
      "cell_type": "code",
      "metadata": {
        "id": "C4qeUxX0-Q-i",
        "colab_type": "code",
        "colab": {}
      },
      "source": [
        "def factorial(n):\n",
        "  \"\"\"Computes nth factorial.\"\"\"\n",
        "  if n == 0:\n",
        "    return 1\n",
        "  else:\n",
        "    return n * factorial(n-1)"
      ],
      "execution_count": null,
      "outputs": []
    },
    {
      "cell_type": "code",
      "metadata": {
        "id": "taOG6DEj_KHg",
        "colab_type": "code",
        "colab": {
          "base_uri": "https://localhost:8080/",
          "height": 35
        },
        "outputId": "f3caf7b3-ca84-4d0d-d5da-56948d104fcf"
      },
      "source": [
        "# Function call\n",
        "f = factorial(5)\n",
        "print(f)"
      ],
      "execution_count": null,
      "outputs": [
        {
          "output_type": "stream",
          "text": [
            "120\n"
          ],
          "name": "stdout"
        }
      ]
    },
    {
      "cell_type": "markdown",
      "metadata": {
        "id": "-lpBUA43q-8C",
        "colab_type": "text"
      },
      "source": [
        "**2. Fibonacci Series**"
      ]
    },
    {
      "cell_type": "code",
      "metadata": {
        "id": "2VRimCDhrBKc",
        "colab_type": "code",
        "colab": {}
      },
      "source": [
        "def fib(n):\n",
        "  \"\"\"Computes nth number of fibonacci sequence.\"\"\"\n",
        "  if n < 0:\n",
        "    return \"Incorrect input! Please input a non-negative number.\"\n",
        "  elif n == 0:\n",
        "    return 0\n",
        "  elif n == 1:\n",
        "    return 1\n",
        "  else:\n",
        "    return fib(n-1) + fib(n-2)\n"
      ],
      "execution_count": 71,
      "outputs": []
    },
    {
      "cell_type": "code",
      "metadata": {
        "id": "sKj1oRFCsWd8",
        "colab_type": "code",
        "colab": {
          "base_uri": "https://localhost:8080/",
          "height": 35
        },
        "outputId": "bc6b3617-06ec-4d96-bd1d-461d14f283b2"
      },
      "source": [
        "# Function Call\n",
        "res = fib(10)\n",
        "print(res)"
      ],
      "execution_count": 75,
      "outputs": [
        {
          "output_type": "stream",
          "text": [
            "55\n"
          ],
          "name": "stdout"
        }
      ]
    },
    {
      "cell_type": "markdown",
      "metadata": {
        "id": "2gmlUXbycvtK",
        "colab_type": "text"
      },
      "source": [
        "**3. Binary Search Algorithm**"
      ]
    },
    {
      "cell_type": "code",
      "metadata": {
        "id": "tOrVuWYHczCF",
        "colab_type": "code",
        "colab": {}
      },
      "source": [
        "def binary_search(data, target, low, high):\n",
        "  \"\"\"Returns True if target is found in indicated portion of a Python list.\n",
        "  The search only considers the portion from data[low] to data[high] inclusive.\"\"\"\n",
        "\n",
        "  if high >= low:\n",
        "    mid = (low + high)//2\n",
        "    if data[mid] == target:\n",
        "      return mid           # found a match\n",
        "\n",
        "    elif target < data[mid]:\n",
        "      # recur on the portion left of the middle\n",
        "      return binary_search(data, target, low, mid - 1)\n",
        "      \n",
        "    else:\n",
        "      # recur on the portion right of the middle\n",
        "      return binary_search(data, target, mid + 1, high)\n",
        "\n",
        "  else:\n",
        "    # Interval is empty, no match\n",
        "    return False"
      ],
      "execution_count": null,
      "outputs": []
    },
    {
      "cell_type": "code",
      "metadata": {
        "id": "2ibY_yKlgToJ",
        "colab_type": "code",
        "colab": {
          "base_uri": "https://localhost:8080/",
          "height": 35
        },
        "outputId": "307db32c-41a7-4e5a-b8eb-64736a602ab7"
      },
      "source": [
        "# Test Sequence\n",
        "numbers = [2, 4, 5, 7, 8, 9, 12, 14, 17, 19, 22, 25, 27, 28, 33, 37]\n",
        "x = 22\n",
        "l = 0\n",
        "h = len(numbers) - 1\n",
        "\n",
        "# Function call \n",
        "result = binary_search(numbers, x, l, h) \n",
        "  \n",
        "if result != False: \n",
        "    print(\"Element is present at index\", str(result)) \n",
        "else: \n",
        "    print(\"Element is not present in the list\")"
      ],
      "execution_count": null,
      "outputs": [
        {
          "output_type": "stream",
          "text": [
            "Element is present at index 10\n"
          ],
          "name": "stdout"
        }
      ]
    },
    {
      "cell_type": "markdown",
      "metadata": {
        "id": "bUNkWXYXQP31",
        "colab_type": "text"
      },
      "source": [
        "**4. Drawing an English Ruler**"
      ]
    },
    {
      "cell_type": "code",
      "metadata": {
        "id": "R0JDOsFeN_nP",
        "colab_type": "code",
        "colab": {}
      },
      "source": [
        "def draw_line(tick_length, tick_label=''):\n",
        "  \"\"\"Draw one line with given tick length (followed by optional label).\"\"\"\n",
        "  line = '-' * tick_length\n",
        "  if tick_label:\n",
        "    line += ' ' + tick_label\n",
        "  print(line)\n",
        "\n",
        "def draw_interval(center_length):\n",
        "  \"\"\"Draw tick interval based upon a central tick length.\"\"\"\n",
        "  if center_length > 0: # stop when length drops to 0\n",
        "    draw_interval(center_length - 1) # recursively draw top ticks\n",
        "    draw_line(center_length) # draw center tick\n",
        "    draw_interval(center_length - 1) # recursively draw bottom ticks\n",
        "\n",
        "def draw_ruler(num_inches, major_length):\n",
        "  \"\"\"Draw English ruler with given number of inches, major tick length.\"\"\"\n",
        "  draw_line(major_length, '0') # draw inch 0 line\n",
        "  for j in range(1, 1 + num_inches):\n",
        "    draw_interval(major_length - 1) # draw interior ticks for inch\n",
        "    draw_line(major_length, str(j)) # draw inch j line and label"
      ],
      "execution_count": null,
      "outputs": []
    },
    {
      "cell_type": "code",
      "metadata": {
        "id": "KnKvhKLAPzie",
        "colab_type": "code",
        "colab": {
          "base_uri": "https://localhost:8080/",
          "height": 325
        },
        "outputId": "a969d001-6f12-46cf-9dad-f8a40d1fd33b"
      },
      "source": [
        "# Function call\n",
        "draw_ruler(2, 4) # a 2-inch ruler with major tick length 4"
      ],
      "execution_count": null,
      "outputs": [
        {
          "output_type": "stream",
          "text": [
            "---- 0\n",
            "-\n",
            "--\n",
            "-\n",
            "---\n",
            "-\n",
            "--\n",
            "-\n",
            "---- 1\n",
            "-\n",
            "--\n",
            "-\n",
            "---\n",
            "-\n",
            "--\n",
            "-\n",
            "---- 2\n"
          ],
          "name": "stdout"
        }
      ]
    },
    {
      "cell_type": "markdown",
      "metadata": {
        "id": "tk8Hn9u6L8yP",
        "colab_type": "text"
      },
      "source": [
        "**Linear Recursion:**\n",
        "\n",
        "**5. Summing the Elements of a Sequence Recursively**"
      ]
    },
    {
      "cell_type": "code",
      "metadata": {
        "id": "wvsRITCuMCCU",
        "colab_type": "code",
        "colab": {}
      },
      "source": [
        "def linear_sum(S, n):\n",
        "  \"\"\"Return the sum of the first n numbers of sequence S.\"\"\"\n",
        "  if n == 0:\n",
        "    return 0\n",
        "  else:\n",
        "    return linear_sum(S, n-1) + S[n-1]"
      ],
      "execution_count": null,
      "outputs": []
    },
    {
      "cell_type": "code",
      "metadata": {
        "id": "EbUdzQYrM2qh",
        "colab_type": "code",
        "colab": {
          "base_uri": "https://localhost:8080/",
          "height": 35
        },
        "outputId": "025d7a05-ca2a-4bd8-cd4a-f638bf9510c4"
      },
      "source": [
        "# Test Sequence\n",
        "numbers = [1, 2, 3, 4, 5, 6, 7, 8, 9, 10]\n",
        "\n",
        "# Function call\n",
        "res = linear_sum(numbers, len(numbers))\n",
        "print(\"Sum of the elements of the provided list is: {}\".format(res))"
      ],
      "execution_count": null,
      "outputs": [
        {
          "output_type": "stream",
          "text": [
            "Sum of the elements of the provided list is: 55\n"
          ],
          "name": "stdout"
        }
      ]
    },
    {
      "cell_type": "markdown",
      "metadata": {
        "id": "KieFjOvGOWLu",
        "colab_type": "text"
      },
      "source": [
        "**6. Reversing a Sequence with Recursion**"
      ]
    },
    {
      "cell_type": "code",
      "metadata": {
        "id": "ORjTybSBOhft",
        "colab_type": "code",
        "colab": {}
      },
      "source": [
        "def reverse(S, start, stop):\n",
        "  \"\"\"Reverse elements in implicit slice S[start:stop].\"\"\"\n",
        "  if start < stop - 1:                          # if at least 2 elements:\n",
        "    S[start], S[stop-1] = S[stop-1], S[start]   # swap first and last\n",
        "    reverse(S, start+1, stop-1)                 # recur on rest"
      ],
      "execution_count": 7,
      "outputs": []
    },
    {
      "cell_type": "code",
      "metadata": {
        "id": "FacqZ9AHPRwe",
        "colab_type": "code",
        "colab": {
          "base_uri": "https://localhost:8080/",
          "height": 53
        },
        "outputId": "52e0d33b-3962-4f24-9f17-fc830a0c389e"
      },
      "source": [
        "# Test Sequence\n",
        "numbers = [1, 2, 3, 4, 5, 6, 7, 8, 9, 10]\n",
        "\n",
        "# Function call\n",
        "reverse(numbers, 0, len(numbers))\n",
        "print(\"The reversed sequence is:\\n\", numbers)"
      ],
      "execution_count": 9,
      "outputs": [
        {
          "output_type": "stream",
          "text": [
            "The reversed sequence is:\n",
            " [10, 9, 8, 7, 6, 5, 4, 3, 2, 1]\n"
          ],
          "name": "stdout"
        }
      ]
    },
    {
      "cell_type": "markdown",
      "metadata": {
        "id": "zSJFXgdpfYc7",
        "colab_type": "text"
      },
      "source": [
        "**7. Recursive Algorithms for Computing Powers**\n",
        "\n",
        "An O(n) implementation"
      ]
    },
    {
      "cell_type": "code",
      "metadata": {
        "id": "VKOF4td6fvaA",
        "colab_type": "code",
        "colab": {}
      },
      "source": [
        "def power1(x, n):\n",
        "  \"\"\"Compute the value x**n for integer n using trivial recursion.\"\"\"\n",
        "  if n == 0:\n",
        "    return 1\n",
        "  else:\n",
        "    return x*power1(x, n-1)"
      ],
      "execution_count": 27,
      "outputs": []
    },
    {
      "cell_type": "code",
      "metadata": {
        "id": "N2bFy9gkgRfn",
        "colab_type": "code",
        "colab": {
          "base_uri": "https://localhost:8080/",
          "height": 35
        },
        "outputId": "2874d101-cd16-4645-a93e-33a65f72e717"
      },
      "source": [
        "# Function call\n",
        "res = power1(2, 3)\n",
        "print(res)"
      ],
      "execution_count": 28,
      "outputs": [
        {
          "output_type": "stream",
          "text": [
            "8\n"
          ],
          "name": "stdout"
        }
      ]
    },
    {
      "cell_type": "markdown",
      "metadata": {
        "id": "JenWqAjNhRVF",
        "colab_type": "text"
      },
      "source": [
        "An O(logn) implementation"
      ]
    },
    {
      "cell_type": "code",
      "metadata": {
        "id": "UgXuB4O3hTXx",
        "colab_type": "code",
        "colab": {}
      },
      "source": [
        "def power2(x, n):\n",
        "  \"\"\"Compute the value x**n for integer n using repeated squaring.\"\"\"\n",
        "  if n == 0:\n",
        "    return 1\n",
        "  else:\n",
        "    partial = power2(x, n//2)     # rely on truncated division\n",
        "    result = partial*partial\n",
        "    if n % 2 == 0:\n",
        "      result *= x               # if n odd, include extra factor of x\n",
        "    return result"
      ],
      "execution_count": 33,
      "outputs": []
    },
    {
      "cell_type": "code",
      "metadata": {
        "id": "kJZ9f7j9h2qG",
        "colab_type": "code",
        "colab": {
          "base_uri": "https://localhost:8080/",
          "height": 35
        },
        "outputId": "8e5898e3-392f-4c32-9096-104ea57b0a59"
      },
      "source": [
        "# Function call\n",
        "res = power2(2, 4)\n",
        "print(res)"
      ],
      "execution_count": 34,
      "outputs": [
        {
          "output_type": "stream",
          "text": [
            "8\n"
          ],
          "name": "stdout"
        }
      ]
    },
    {
      "cell_type": "markdown",
      "metadata": {
        "id": "zToZkTNimR35",
        "colab_type": "text"
      },
      "source": [
        "**Binary Recursion**\n",
        "\n",
        "**8. Binary Sum**"
      ]
    },
    {
      "cell_type": "code",
      "metadata": {
        "id": "ih5IUruMmXgm",
        "colab_type": "code",
        "colab": {}
      },
      "source": [
        "def binary_sum(S, start, stop):\n",
        "  \"\"\"Return the sum of the numbers in implicit slice S[start:stop].\"\"\"\n",
        "  if start >= stop:             # zero elements in slice\n",
        "    return 0\n",
        "  elif start == stop - 1:       # one element in slice\n",
        "    return S[start]\n",
        "  else:\n",
        "    mid = (start + stop) // 2   # two or more elements in slice\n",
        "    return binary_sum(S, start, mid) + binary_sum(S, mid, stop)"
      ],
      "execution_count": 35,
      "outputs": []
    },
    {
      "cell_type": "code",
      "metadata": {
        "id": "dbfyxKmonuN9",
        "colab_type": "code",
        "colab": {
          "base_uri": "https://localhost:8080/",
          "height": 35
        },
        "outputId": "a0795c05-3675-44fb-9f10-4c77f9064fb2"
      },
      "source": [
        "# Test Sequence\n",
        "numbers = [1, 2, 3, 4, 5, 6, 7, 8, 9, 10]\n",
        "x = 0\n",
        "# Function call\n",
        "res = binary_sum(numbers, x, len(numbers))\n",
        "print(\"The sum of the numbers in the slice is found to be: {}\".format(res))"
      ],
      "execution_count": 46,
      "outputs": [
        {
          "output_type": "stream",
          "text": [
            "The sum of the numbers in the slice is found to be: 55\n"
          ],
          "name": "stdout"
        }
      ]
    }
  ]
}